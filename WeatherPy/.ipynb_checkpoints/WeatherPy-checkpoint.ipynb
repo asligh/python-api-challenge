{
 "cells": [
  {
   "cell_type": "markdown",
   "metadata": {},
   "source": [
    "# WeatherPy\n",
    "----\n",
    "\n",
    "#### Note\n",
    "* Instructions have been included for each segment. You do not have to follow them exactly, but they are included to help you think through the steps."
   ]
  },
  {
   "cell_type": "code",
   "execution_count": 1,
   "metadata": {
    "scrolled": true
   },
   "outputs": [],
   "source": [
    "# Dependencies and Setup\n",
    "import matplotlib.pyplot as plt\n",
    "import pandas as pd\n",
    "import numpy as np\n",
    "import requests\n",
    "import time\n",
    "from scipy.stats import linregress\n",
    "\n",
    "# Import API key\n",
    "from api_keys import weather_api_key\n",
    "\n",
    "# Incorporated citipy to determine city based on latitude and longitude\n",
    "from citipy import citipy\n",
    "\n",
    "#Weather URL\n",
    "weather_url = \"http://api.openweathermap.org/data/2.5/weather?\"\n",
    "\n",
    "# Output File (CSV)\n",
    "output_data_file = \"../output_data/cities.csv\"\n",
    "\n",
    "# Range of latitudes and longitudes\n",
    "lat_range = (-90, 90)\n",
    "lng_range = (-180, 180)"
   ]
  },
  {
   "cell_type": "code",
   "execution_count": 2,
   "metadata": {},
   "outputs": [],
   "source": [
    "class Keys:\n",
    "    is_fetch_ok = \"Is_Fetch_Ok\"\n",
    "    city_id     = \"City_ID\"\n",
    "    city        = \"City\"\n",
    "    cloudiness  = \"Cloudiness\"\n",
    "    country     = \"Country\"\n",
    "    date        = \"Date\"\n",
    "    humidity    = \"Humidity\"\n",
    "    lat         = \"Lat\"\n",
    "    lng         = \"Lng\"\n",
    "    max_temp    = \"Max Temp\"\n",
    "    wind_speed  = \"Wind Speed\"   "
   ]
  },
  {
   "cell_type": "markdown",
   "metadata": {},
   "source": [
    "## Generate Cities List"
   ]
  },
  {
   "cell_type": "code",
   "execution_count": 3,
   "metadata": {},
   "outputs": [
    {
     "name": "stdout",
     "output_type": "stream",
     "text": [
      "The pseudo-random number of unique cities in this unit of execution is 15\n"
     ]
    }
   ],
   "source": [
    "\n",
    "# List for holding lat_lngs and cities\n",
    "lat_lngs     = []\n",
    "\n",
    "#Keeping track of processed cities\n",
    "cities       = []\n",
    "\n",
    "#Stores all weather-relevant data for a given set of coordinates\n",
    "weather_container = []\n",
    "\n",
    "#************************************#\n",
    "#*            Test Vars             *#\n",
    "#************************************#\n",
    "geographical_span = 15 #was 1500 TODO change back\n",
    "is_test = True     #TODO remove\n",
    "test_humidity = 70 #TODO remove\n",
    "#************************************#\n",
    "#*            Test Vars             *#\n",
    "#************************************#\n",
    "\n",
    "# Create a set of random lat and lng combinations\n",
    "lats = np.random.uniform(lat_range[0], lat_range[1], size=geographical_span)\n",
    "lngs = np.random.uniform(lng_range[0], lng_range[1], size=geographical_span)\n",
    "lat_lngs = zip(lats, lngs)\n",
    "\n",
    "# Identify nearest city for each lat, lng combination\n",
    "for lat_lng in lat_lngs:\n",
    "    \n",
    "    city_name    = citipy.nearest_city(lat_lng[0], lat_lng[1]).city_name\n",
    "    country_code = citipy.nearest_city(lat_lng[0], lat_lng[1]).country_code\n",
    "\n",
    "    # If the city is unique, then add it to 'cities'\n",
    "    if city_name not in cities:\n",
    "        \n",
    "        weather_hash  = {\n",
    "                             Keys.is_fetch_ok : False,\n",
    "                             Keys.city_id     : None, \n",
    "                             Keys.city        : city_name, \n",
    "                             Keys.cloudiness  : None, \n",
    "                             Keys.country     : country_code.upper(),\n",
    "                             Keys.date        : None,\n",
    "                             Keys.humidity    : None,\n",
    "                             Keys.lat         : lat_lng[0],\n",
    "                             Keys.lng         : lat_lng[1],\n",
    "                             Keys.max_temp    : None,\n",
    "                             Keys.wind_speed  : None\n",
    "                        }        \n",
    "        \n",
    "        weather_container.append(weather_hash)\n",
    "        cities.append(city_name)\n",
    "        \n",
    "# Print the city count to confirm (sufficient) count\n",
    "print(f\"The pseudo-random number of unique cities in this unit of execution is {len(cities)}\")"
   ]
  },
  {
   "cell_type": "code",
   "execution_count": 4,
   "metadata": {},
   "outputs": [],
   "source": [
    "def print_city_log(status_code : int, \n",
    "                   city_name   : str       = None, \n",
    "                   rec_set     : int       = None, \n",
    "                   success_fetch_cntr :int = None) -> None:\n",
    "    \"\"\"\n",
    "    Prints running log of city number and name, if and only if, if the city contains 500+ people, otherwise\n",
    "    the city name will not be printed\n",
    "\n",
    "    :param int status_code: The status code of the Response\n",
    "    :param str city_name: The city name for a given set of coordinates\n",
    "    :param int rec_set: The count of the processing record set\n",
    "    :param int success_fetch_cntr: The current record fetch count\n",
    "    \"\"\"        \n",
    "    if(status_code == 200):\n",
    "        print(f\"Processing Record {success_fetch_cntr} of Set {rec_set} | {city_name}\")\n",
    "    else:\n",
    "        print(\"City not found. Skipping...\")"
   ]
  },
  {
   "cell_type": "code",
   "execution_count": 5,
   "metadata": {},
   "outputs": [],
   "source": [
    "def print_line_sep() -> None:\n",
    "    \n",
    "    \"\"\"\n",
    "    Prints a line delimiter\n",
    "    \"\"\"       \n",
    "    \n",
    "    print(\"----------------------------\")"
   ]
  },
  {
   "cell_type": "code",
   "execution_count": 6,
   "metadata": {},
   "outputs": [],
   "source": [
    "def display_dataframe(data_frame,\n",
    "                      reset_index_flag = False, \n",
    "                      copy_flag        = False, \n",
    "                      in_place_flag    = True) -> pd.DataFrame:\n",
    "    \n",
    "    \"\"\"\n",
    "    Returns formatted copy of given DataFrame\n",
    "\n",
    "    :param DataFrame data_frame: The DataFrame to display\n",
    "    :param Bool reset_index_flag: The recipient of the message\n",
    "    :param Bool copy_flag: The body of the message\n",
    "    :param Bool in_place_flag: The priority of the message, can be a number 1-5\n",
    "    \"\"\"  \n",
    "    \n",
    "    #try:\n",
    "        \n",
    "    df = data_frame.copy(deep = True) #Not in situ\n",
    "\n",
    "    if reset_index_flag:\n",
    "        df.reset_index(inplace=in_place_flag)\n",
    "\n",
    "    #df.astype({Keys.city_id:     int}, copy=copy_flag) #.set_index(city_id)\n",
    "    #df.astype({Keys.humidity:    int}, copy=copy_flag) \n",
    "    #df.astype({Keys.cloudiness:  int}, copy=copy_flag) \n",
    "    \n",
    "    df = df.astype({Keys.city_id:     int, \n",
    "                    Keys.humidity:    int,\n",
    "                    Keys.cloudiness:  int,\n",
    "                    Keys.date:        str\n",
    "                   })\n",
    "    \n",
    "    df = df.astype({Keys.lat: float}).round(2)\n",
    "    df = df.astype({Keys.lng: float}).round(2)\n",
    "\n",
    "    df = df[Keys.date].replace('.0', '') \n",
    "    \n",
    "    df.head(20)\n",
    "\n",
    "    #Source: https://stackoverflow.com/questions/19738169/convert-column-of-date-objects-in-pandas-dataframe-to-strings  \n",
    "    #Source: https://stackoverflow.com/questions/1759455/how-can-i-account-for-period-am-pm-using-strftime\n",
    "    #https://pandas.pydata.org/docs/reference/api/pandas.to_datetime.html\n",
    "\n",
    "    #try:\n",
    "        #df[Keys.date] = pd.to_datetime(df[Keys.date], unit='s')\n",
    "\n",
    "    #except Exception as e:\n",
    "        #print(f\"Exception occured in display_dataframe on line and the exception is {e.__str__()}\")\n",
    "\n",
    "#except Exception as e:\n",
    "    #print(f\"EXCEPTION    {e.__str__()}\")\n",
    "             \n",
    "    #return df[[Keys.city,\n",
    "               #Keys.lat,\n",
    "               #Keys.lng,\n",
    "              # Keys.max_temp,\n",
    "              # Keys.humidity,\n",
    "              # Keys.cloudiness,\n",
    "              # Keys.wind_speed,\n",
    "               #Keys.country,\n",
    "               #Keys.date]]  "
   ]
  },
  {
   "cell_type": "markdown",
   "metadata": {},
   "source": [
    "### Perform API Calls\n",
    "* Perform a weather check on each city using a series of successive API calls.\n",
    "* Include a print log of each city as it'sbeing processed (with the city number and city name).\n"
   ]
  },
  {
   "cell_type": "code",
   "execution_count": 7,
   "metadata": {
    "scrolled": true
   },
   "outputs": [
    {
     "name": "stdout",
     "output_type": "stream",
     "text": [
      "Beginning Data Retrieval\n",
      "----------------------------\n",
      "Processing Record 1 of Set 1 | marzuq\n",
      "City not found. Skipping...\n",
      "Processing Record 2 of Set 1 | mataura\n",
      "Processing Record 3 of Set 1 | yellowknife\n",
      "Processing Record 4 of Set 1 | albany\n",
      "Processing Record 5 of Set 1 | mirabad\n",
      "Processing Record 6 of Set 1 | tshikapa\n",
      "Processing Record 7 of Set 1 | hobart\n",
      "Processing Record 8 of Set 1 | new norfolk\n",
      "City not found. Skipping...\n",
      "Processing Record 9 of Set 1 | narsaq\n",
      "Processing Record 10 of Set 1 | puerto ayora\n",
      "Processing Record 11 of Set 1 | camacha\n",
      "Processing Record 12 of Set 1 | sayyan\n",
      "Processing Record 13 of Set 1 | rajpipla\n",
      "----------------------------\n",
      "Data Retrieval Complete\n",
      "----------------------------\n"
     ]
    }
   ],
   "source": [
    "# Build query URL\n",
    "  \n",
    "#out_cols = [\"City_ID\",\"Cloudiness\",\"Country\",\"Date\",\"Humidity\",\"Lat\",\"Lng\",\"Max Temp\",\"Wind Speed\"]\n",
    "\n",
    "total_success_fetch_cntr = 0\n",
    "rec_set_cntr = 0\n",
    "set_cntr = 1\n",
    "\n",
    "print(\"Beginning Data Retrieval\")\n",
    "print_line_sep()\n",
    "\n",
    "for i in range(len(weather_container)):\n",
    "    \n",
    "    weather_hash = weather_container[i]\n",
    "    city_name    = weather_hash[Keys.city]\n",
    "    weather_query_url = weather_url + \"appid=\" + weather_api_key + \"&q=\" + city_name\n",
    "    \n",
    "    if (i + 1) % 60 != 0:\n",
    "        \n",
    "        weather_response  = requests.get(weather_query_url)\n",
    "        status_code       = weather_response.status_code\n",
    "\n",
    "        if status_code == 200 :\n",
    "\n",
    "            weather_json = weather_response.json()\n",
    "            \n",
    "            rec_set_cntr += 1\n",
    "            \n",
    "            weather_hash[Keys.is_fetch_ok] = True\n",
    "            weather_hash[Keys.city_id]     = total_success_fetch_cntr #id starts at 0 not 1\n",
    "            total_success_fetch_cntr += 1\n",
    "            \n",
    "            try:\n",
    "                \n",
    "                #weather_hash[date]        = \"\" if weather_json       == None  or \\\n",
    "                                                  #weather_json[\"dt\"] == \"\"    or \\\n",
    "                                                  #weather_json[\"dt\"] == None else str(weather_json[\"dt\"])\n",
    "                \n",
    "                weather_hash[Keys.date]        = weather_json[\"dt\"]\n",
    "                \n",
    "                weather_hash[Keys.max_temp]    = weather_json[\"main\"][\"temp_max\"]\n",
    "                weather_hash[Keys.humidity]    = weather_json[\"main\"][\"humidity\"]      \n",
    "                weather_hash[Keys.wind_speed]  = weather_json[\"wind\"][\"speed\"]\n",
    "                weather_hash[Keys.cloudiness]  = weather_json[\"clouds\"][\"all\"]\n",
    "                \n",
    "                if is_test:\n",
    "                    time.sleep(1)              \n",
    "            \n",
    "            except IndexError as ie:\n",
    "                print(f\"Index Exception occured {ie}\")\n",
    "                break\n",
    "                \n",
    "            except Exception as e:\n",
    "                print(f\"Index Exception occured {e}\")\n",
    "                break                \n",
    "                \n",
    "            else:\n",
    "                      \n",
    "                print_city_log(status_code,\n",
    "                               city_name,\n",
    "                               set_cntr,\n",
    "                               rec_set_cntr)\n",
    "                \n",
    "        else:\n",
    "            print_city_log(status_code)\n",
    "    \n",
    "    else:\n",
    "        set_cntr    += 1\n",
    "        rec_set_cntr = 0\n",
    "        time.sleep(60)\n",
    "\n",
    "print_line_sep()\n",
    "print(\"Data Retrieval Complete\")\n",
    "print_line_sep()\n"
   ]
  },
  {
   "cell_type": "markdown",
   "metadata": {},
   "source": [
    "### Convert Raw Data to DataFrame\n",
    "* Export the city data into a .csv.\n",
    "* Display the DataFrame"
   ]
  },
  {
   "cell_type": "code",
   "execution_count": 8,
   "metadata": {},
   "outputs": [
    {
     "ename": "KeyError",
     "evalue": "\"None of [Index(['City', 'Lat', 'Lng', 'Max Temp', 'Humidity', 'Cloudiness',\\n       'Wind Speed', 'Country', 'Date'],\\n      dtype='object')] are in the [index]\"",
     "output_type": "error",
     "traceback": [
      "\u001b[1;31m---------------------------------------------------------------------------\u001b[0m",
      "\u001b[1;31mKeyError\u001b[0m                                  Traceback (most recent call last)",
      "\u001b[1;32m~\\AppData\\Local\\Temp/ipykernel_33156/3447458767.py\u001b[0m in \u001b[0;36m<module>\u001b[1;34m\u001b[0m\n\u001b[0;32m     19\u001b[0m \u001b[1;33m\u001b[0m\u001b[0m\n\u001b[0;32m     20\u001b[0m \u001b[1;31m#Display the DataFrame\u001b[0m\u001b[1;33m\u001b[0m\u001b[1;33m\u001b[0m\u001b[1;33m\u001b[0m\u001b[0m\n\u001b[1;32m---> 21\u001b[1;33m df = display_dataframe(fetched_results_df,\n\u001b[0m\u001b[0;32m     22\u001b[0m                        \u001b[0mreset_index_flag\u001b[0m \u001b[1;33m=\u001b[0m \u001b[1;32mTrue\u001b[0m\u001b[1;33m,\u001b[0m\u001b[1;33m\u001b[0m\u001b[1;33m\u001b[0m\u001b[0m\n\u001b[0;32m     23\u001b[0m                        \u001b[0mcopy_flag\u001b[0m        \u001b[1;33m=\u001b[0m \u001b[1;32mFalse\u001b[0m\u001b[1;33m,\u001b[0m\u001b[1;33m\u001b[0m\u001b[1;33m\u001b[0m\u001b[0m\n",
      "\u001b[1;32m~\\AppData\\Local\\Temp/ipykernel_33156/2478589544.py\u001b[0m in \u001b[0;36mdisplay_dataframe\u001b[1;34m(data_frame, reset_index_flag, copy_flag, in_place_flag)\u001b[0m\n\u001b[0;32m     48\u001b[0m     \u001b[1;31m#print(f\"EXCEPTION    {e.__str__()}\")\u001b[0m\u001b[1;33m\u001b[0m\u001b[1;33m\u001b[0m\u001b[1;33m\u001b[0m\u001b[0m\n\u001b[0;32m     49\u001b[0m \u001b[1;33m\u001b[0m\u001b[0m\n\u001b[1;32m---> 50\u001b[1;33m     return df[[Keys.city,\n\u001b[0m\u001b[0;32m     51\u001b[0m                \u001b[0mKeys\u001b[0m\u001b[1;33m.\u001b[0m\u001b[0mlat\u001b[0m\u001b[1;33m,\u001b[0m\u001b[1;33m\u001b[0m\u001b[1;33m\u001b[0m\u001b[0m\n\u001b[0;32m     52\u001b[0m                \u001b[0mKeys\u001b[0m\u001b[1;33m.\u001b[0m\u001b[0mlng\u001b[0m\u001b[1;33m,\u001b[0m\u001b[1;33m\u001b[0m\u001b[1;33m\u001b[0m\u001b[0m\n",
      "\u001b[1;32m~\\anaconda3\\envs\\PythonData\\lib\\site-packages\\pandas\\core\\series.py\u001b[0m in \u001b[0;36m__getitem__\u001b[1;34m(self, key)\u001b[0m\n\u001b[0;32m    964\u001b[0m             \u001b[1;32mreturn\u001b[0m \u001b[0mself\u001b[0m\u001b[1;33m.\u001b[0m\u001b[0m_get_values\u001b[0m\u001b[1;33m(\u001b[0m\u001b[0mkey\u001b[0m\u001b[1;33m)\u001b[0m\u001b[1;33m\u001b[0m\u001b[1;33m\u001b[0m\u001b[0m\n\u001b[0;32m    965\u001b[0m \u001b[1;33m\u001b[0m\u001b[0m\n\u001b[1;32m--> 966\u001b[1;33m         \u001b[1;32mreturn\u001b[0m \u001b[0mself\u001b[0m\u001b[1;33m.\u001b[0m\u001b[0m_get_with\u001b[0m\u001b[1;33m(\u001b[0m\u001b[0mkey\u001b[0m\u001b[1;33m)\u001b[0m\u001b[1;33m\u001b[0m\u001b[1;33m\u001b[0m\u001b[0m\n\u001b[0m\u001b[0;32m    967\u001b[0m \u001b[1;33m\u001b[0m\u001b[0m\n\u001b[0;32m    968\u001b[0m     \u001b[1;32mdef\u001b[0m \u001b[0m_get_with\u001b[0m\u001b[1;33m(\u001b[0m\u001b[0mself\u001b[0m\u001b[1;33m,\u001b[0m \u001b[0mkey\u001b[0m\u001b[1;33m)\u001b[0m\u001b[1;33m:\u001b[0m\u001b[1;33m\u001b[0m\u001b[1;33m\u001b[0m\u001b[0m\n",
      "\u001b[1;32m~\\anaconda3\\envs\\PythonData\\lib\\site-packages\\pandas\\core\\series.py\u001b[0m in \u001b[0;36m_get_with\u001b[1;34m(self, key)\u001b[0m\n\u001b[0;32m   1004\u001b[0m \u001b[1;33m\u001b[0m\u001b[0m\n\u001b[0;32m   1005\u001b[0m         \u001b[1;31m# handle the dup indexing case GH#4246\u001b[0m\u001b[1;33m\u001b[0m\u001b[1;33m\u001b[0m\u001b[1;33m\u001b[0m\u001b[0m\n\u001b[1;32m-> 1006\u001b[1;33m         \u001b[1;32mreturn\u001b[0m \u001b[0mself\u001b[0m\u001b[1;33m.\u001b[0m\u001b[0mloc\u001b[0m\u001b[1;33m[\u001b[0m\u001b[0mkey\u001b[0m\u001b[1;33m]\u001b[0m\u001b[1;33m\u001b[0m\u001b[1;33m\u001b[0m\u001b[0m\n\u001b[0m\u001b[0;32m   1007\u001b[0m \u001b[1;33m\u001b[0m\u001b[0m\n\u001b[0;32m   1008\u001b[0m     \u001b[1;32mdef\u001b[0m \u001b[0m_get_values_tuple\u001b[0m\u001b[1;33m(\u001b[0m\u001b[0mself\u001b[0m\u001b[1;33m,\u001b[0m \u001b[0mkey\u001b[0m\u001b[1;33m)\u001b[0m\u001b[1;33m:\u001b[0m\u001b[1;33m\u001b[0m\u001b[1;33m\u001b[0m\u001b[0m\n",
      "\u001b[1;32m~\\anaconda3\\envs\\PythonData\\lib\\site-packages\\pandas\\core\\indexing.py\u001b[0m in \u001b[0;36m__getitem__\u001b[1;34m(self, key)\u001b[0m\n\u001b[0;32m    929\u001b[0m \u001b[1;33m\u001b[0m\u001b[0m\n\u001b[0;32m    930\u001b[0m             \u001b[0mmaybe_callable\u001b[0m \u001b[1;33m=\u001b[0m \u001b[0mcom\u001b[0m\u001b[1;33m.\u001b[0m\u001b[0mapply_if_callable\u001b[0m\u001b[1;33m(\u001b[0m\u001b[0mkey\u001b[0m\u001b[1;33m,\u001b[0m \u001b[0mself\u001b[0m\u001b[1;33m.\u001b[0m\u001b[0mobj\u001b[0m\u001b[1;33m)\u001b[0m\u001b[1;33m\u001b[0m\u001b[1;33m\u001b[0m\u001b[0m\n\u001b[1;32m--> 931\u001b[1;33m             \u001b[1;32mreturn\u001b[0m \u001b[0mself\u001b[0m\u001b[1;33m.\u001b[0m\u001b[0m_getitem_axis\u001b[0m\u001b[1;33m(\u001b[0m\u001b[0mmaybe_callable\u001b[0m\u001b[1;33m,\u001b[0m \u001b[0maxis\u001b[0m\u001b[1;33m=\u001b[0m\u001b[0maxis\u001b[0m\u001b[1;33m)\u001b[0m\u001b[1;33m\u001b[0m\u001b[1;33m\u001b[0m\u001b[0m\n\u001b[0m\u001b[0;32m    932\u001b[0m \u001b[1;33m\u001b[0m\u001b[0m\n\u001b[0;32m    933\u001b[0m     \u001b[1;32mdef\u001b[0m \u001b[0m_is_scalar_access\u001b[0m\u001b[1;33m(\u001b[0m\u001b[0mself\u001b[0m\u001b[1;33m,\u001b[0m \u001b[0mkey\u001b[0m\u001b[1;33m:\u001b[0m \u001b[0mtuple\u001b[0m\u001b[1;33m)\u001b[0m\u001b[1;33m:\u001b[0m\u001b[1;33m\u001b[0m\u001b[1;33m\u001b[0m\u001b[0m\n",
      "\u001b[1;32m~\\anaconda3\\envs\\PythonData\\lib\\site-packages\\pandas\\core\\indexing.py\u001b[0m in \u001b[0;36m_getitem_axis\u001b[1;34m(self, key, axis)\u001b[0m\n\u001b[0;32m   1151\u001b[0m                     \u001b[1;32mraise\u001b[0m \u001b[0mValueError\u001b[0m\u001b[1;33m(\u001b[0m\u001b[1;34m\"Cannot index with multidimensional key\"\u001b[0m\u001b[1;33m)\u001b[0m\u001b[1;33m\u001b[0m\u001b[1;33m\u001b[0m\u001b[0m\n\u001b[0;32m   1152\u001b[0m \u001b[1;33m\u001b[0m\u001b[0m\n\u001b[1;32m-> 1153\u001b[1;33m                 \u001b[1;32mreturn\u001b[0m \u001b[0mself\u001b[0m\u001b[1;33m.\u001b[0m\u001b[0m_getitem_iterable\u001b[0m\u001b[1;33m(\u001b[0m\u001b[0mkey\u001b[0m\u001b[1;33m,\u001b[0m \u001b[0maxis\u001b[0m\u001b[1;33m=\u001b[0m\u001b[0maxis\u001b[0m\u001b[1;33m)\u001b[0m\u001b[1;33m\u001b[0m\u001b[1;33m\u001b[0m\u001b[0m\n\u001b[0m\u001b[0;32m   1154\u001b[0m \u001b[1;33m\u001b[0m\u001b[0m\n\u001b[0;32m   1155\u001b[0m             \u001b[1;31m# nested tuple slicing\u001b[0m\u001b[1;33m\u001b[0m\u001b[1;33m\u001b[0m\u001b[1;33m\u001b[0m\u001b[0m\n",
      "\u001b[1;32m~\\anaconda3\\envs\\PythonData\\lib\\site-packages\\pandas\\core\\indexing.py\u001b[0m in \u001b[0;36m_getitem_iterable\u001b[1;34m(self, key, axis)\u001b[0m\n\u001b[0;32m   1091\u001b[0m \u001b[1;33m\u001b[0m\u001b[0m\n\u001b[0;32m   1092\u001b[0m         \u001b[1;31m# A collection of keys\u001b[0m\u001b[1;33m\u001b[0m\u001b[1;33m\u001b[0m\u001b[1;33m\u001b[0m\u001b[0m\n\u001b[1;32m-> 1093\u001b[1;33m         \u001b[0mkeyarr\u001b[0m\u001b[1;33m,\u001b[0m \u001b[0mindexer\u001b[0m \u001b[1;33m=\u001b[0m \u001b[0mself\u001b[0m\u001b[1;33m.\u001b[0m\u001b[0m_get_listlike_indexer\u001b[0m\u001b[1;33m(\u001b[0m\u001b[0mkey\u001b[0m\u001b[1;33m,\u001b[0m \u001b[0maxis\u001b[0m\u001b[1;33m)\u001b[0m\u001b[1;33m\u001b[0m\u001b[1;33m\u001b[0m\u001b[0m\n\u001b[0m\u001b[0;32m   1094\u001b[0m         return self.obj._reindex_with_indexers(\n\u001b[0;32m   1095\u001b[0m             \u001b[1;33m{\u001b[0m\u001b[0maxis\u001b[0m\u001b[1;33m:\u001b[0m \u001b[1;33m[\u001b[0m\u001b[0mkeyarr\u001b[0m\u001b[1;33m,\u001b[0m \u001b[0mindexer\u001b[0m\u001b[1;33m]\u001b[0m\u001b[1;33m}\u001b[0m\u001b[1;33m,\u001b[0m \u001b[0mcopy\u001b[0m\u001b[1;33m=\u001b[0m\u001b[1;32mTrue\u001b[0m\u001b[1;33m,\u001b[0m \u001b[0mallow_dups\u001b[0m\u001b[1;33m=\u001b[0m\u001b[1;32mTrue\u001b[0m\u001b[1;33m\u001b[0m\u001b[1;33m\u001b[0m\u001b[0m\n",
      "\u001b[1;32m~\\anaconda3\\envs\\PythonData\\lib\\site-packages\\pandas\\core\\indexing.py\u001b[0m in \u001b[0;36m_get_listlike_indexer\u001b[1;34m(self, key, axis)\u001b[0m\n\u001b[0;32m   1312\u001b[0m             \u001b[0mkeyarr\u001b[0m\u001b[1;33m,\u001b[0m \u001b[0mindexer\u001b[0m\u001b[1;33m,\u001b[0m \u001b[0mnew_indexer\u001b[0m \u001b[1;33m=\u001b[0m \u001b[0max\u001b[0m\u001b[1;33m.\u001b[0m\u001b[0m_reindex_non_unique\u001b[0m\u001b[1;33m(\u001b[0m\u001b[0mkeyarr\u001b[0m\u001b[1;33m)\u001b[0m\u001b[1;33m\u001b[0m\u001b[1;33m\u001b[0m\u001b[0m\n\u001b[0;32m   1313\u001b[0m \u001b[1;33m\u001b[0m\u001b[0m\n\u001b[1;32m-> 1314\u001b[1;33m         \u001b[0mself\u001b[0m\u001b[1;33m.\u001b[0m\u001b[0m_validate_read_indexer\u001b[0m\u001b[1;33m(\u001b[0m\u001b[0mkeyarr\u001b[0m\u001b[1;33m,\u001b[0m \u001b[0mindexer\u001b[0m\u001b[1;33m,\u001b[0m \u001b[0maxis\u001b[0m\u001b[1;33m)\u001b[0m\u001b[1;33m\u001b[0m\u001b[1;33m\u001b[0m\u001b[0m\n\u001b[0m\u001b[0;32m   1315\u001b[0m \u001b[1;33m\u001b[0m\u001b[0m\n\u001b[0;32m   1316\u001b[0m         if needs_i8_conversion(ax.dtype) or isinstance(\n",
      "\u001b[1;32m~\\anaconda3\\envs\\PythonData\\lib\\site-packages\\pandas\\core\\indexing.py\u001b[0m in \u001b[0;36m_validate_read_indexer\u001b[1;34m(self, key, indexer, axis)\u001b[0m\n\u001b[0;32m   1372\u001b[0m                 \u001b[1;32mif\u001b[0m \u001b[0muse_interval_msg\u001b[0m\u001b[1;33m:\u001b[0m\u001b[1;33m\u001b[0m\u001b[1;33m\u001b[0m\u001b[0m\n\u001b[0;32m   1373\u001b[0m                     \u001b[0mkey\u001b[0m \u001b[1;33m=\u001b[0m \u001b[0mlist\u001b[0m\u001b[1;33m(\u001b[0m\u001b[0mkey\u001b[0m\u001b[1;33m)\u001b[0m\u001b[1;33m\u001b[0m\u001b[1;33m\u001b[0m\u001b[0m\n\u001b[1;32m-> 1374\u001b[1;33m                 \u001b[1;32mraise\u001b[0m \u001b[0mKeyError\u001b[0m\u001b[1;33m(\u001b[0m\u001b[1;34mf\"None of [{key}] are in the [{axis_name}]\"\u001b[0m\u001b[1;33m)\u001b[0m\u001b[1;33m\u001b[0m\u001b[1;33m\u001b[0m\u001b[0m\n\u001b[0m\u001b[0;32m   1375\u001b[0m \u001b[1;33m\u001b[0m\u001b[0m\n\u001b[0;32m   1376\u001b[0m             \u001b[0mnot_found\u001b[0m \u001b[1;33m=\u001b[0m \u001b[0mlist\u001b[0m\u001b[1;33m(\u001b[0m\u001b[0mensure_index\u001b[0m\u001b[1;33m(\u001b[0m\u001b[0mkey\u001b[0m\u001b[1;33m)\u001b[0m\u001b[1;33m[\u001b[0m\u001b[0mmissing_mask\u001b[0m\u001b[1;33m.\u001b[0m\u001b[0mnonzero\u001b[0m\u001b[1;33m(\u001b[0m\u001b[1;33m)\u001b[0m\u001b[1;33m[\u001b[0m\u001b[1;36m0\u001b[0m\u001b[1;33m]\u001b[0m\u001b[1;33m]\u001b[0m\u001b[1;33m.\u001b[0m\u001b[0munique\u001b[0m\u001b[1;33m(\u001b[0m\u001b[1;33m)\u001b[0m\u001b[1;33m)\u001b[0m\u001b[1;33m\u001b[0m\u001b[1;33m\u001b[0m\u001b[0m\n",
      "\u001b[1;31mKeyError\u001b[0m: \"None of [Index(['City', 'Lat', 'Lng', 'Max Temp', 'Humidity', 'Cloudiness',\\n       'Wind Speed', 'Country', 'Date'],\\n      dtype='object')] are in the [index]\""
     ]
    }
   ],
   "source": [
    "# Put data into DataFrame\n",
    "raw_results = pd.DataFrame(weather_container)\n",
    "fetched_results_df = raw_results.loc[raw_results[Keys.is_fetch_ok] == True][[Keys.city_id,\n",
    "                                                                             Keys.city,\n",
    "                                                                             Keys.cloudiness,\n",
    "                                                                             Keys.country,\n",
    "                                                                             Keys.date,\n",
    "                                                                             Keys.humidity,\n",
    "                                                                             Keys.lat,\n",
    "                                                                             Keys.lng,\n",
    "                                                                             Keys.max_temp,\n",
    "                                                                             Keys.wind_speed]].set_index(Keys.city_id)\n",
    "\n",
    "#Export the DataFrame to CSV\n",
    "fetched_results_df.to_csv(output_data_file,\n",
    "                          header=True,\n",
    "                          mode='w',\n",
    "                          index=True)\n",
    "\n",
    "#Display the DataFrame\n",
    "df = display_dataframe(fetched_results_df,\n",
    "                       reset_index_flag = True,\n",
    "                       copy_flag        = False,\n",
    "                       in_place_flag    = True)\n",
    "\n",
    "df.head(10)\n",
    "\n",
    "\n",
    "#display_dataframe = fetched_results_df.copy(deep = True) #Not in situ\n",
    "\n",
    "#display_dataframe = display_dataframe.reset_index()\n",
    "\n",
    "\n",
    "#display_dataframe = display_dataframe.astype({Keys.city_id: int})  #.set_index(city_id)\n",
    "#df.astype({Keys.humidity:   'int'},   copy=False) \n",
    "#df.astype({Keys.cloudiness: 'int'},   copy=False) \n",
    "\n",
    "#display_dataframe =display_dataframe.astype({Keys.lat:float}).round(2)\n",
    "#display_dataframe =display_dataframe.astype({Keys.lng:float}).round(2)\n",
    "\n",
    "#df.astype({Keys.date: 'str'},   copy = False)\n",
    "#df[Keys.date].replace('.0', '', inplace = True) \n",
    "\n",
    "\n",
    "#display_dataframe[[Keys.city_id,\n",
    "                   #Keys.city,\n",
    "                  # Keys.lat,\n",
    "                   #Keys.lng,\n",
    "                   #Keys.max_temp,\n",
    "                   #Keys.humidity,\n",
    "                   #Keys.cloudiness,\n",
    "                   #Keys.wind_speed,\n",
    "                   #Keys.country,\n",
    "                   #Keys.date]].head(10) \n"
   ]
  },
  {
   "cell_type": "code",
   "execution_count": null,
   "metadata": {},
   "outputs": [],
   "source": [
    "df = None #Clean up"
   ]
  },
  {
   "cell_type": "code",
   "execution_count": null,
   "metadata": {},
   "outputs": [],
   "source": [
    "#Display discriptive fundamental statistics visualization of successfully fetched results\n",
    "\n",
    "fetched_results_df[[Keys.city,\n",
    "                    Keys.lat,\n",
    "                    Keys.lng,\n",
    "                    Keys.max_temp,\n",
    "                    Keys.humidity,\n",
    "                    Keys.cloudiness,\n",
    "                    Keys.wind_speed,\n",
    "                    Keys.country,\n",
    "                    Keys.date]].describe()"
   ]
  },
  {
   "cell_type": "markdown",
   "metadata": {},
   "source": [
    "## Inspect the data and remove the cities where the humidity > 100%.\n",
    "----\n",
    "Skip this step if there are no cities that have humidity > 100%. "
   ]
  },
  {
   "cell_type": "code",
   "execution_count": null,
   "metadata": {},
   "outputs": [],
   "source": [
    "#  Get the indices of cities that have humidity over 100%.\n",
    "\n",
    "humidity_limit = test_humidity  ##Test Humidity [Test Variable] set above\n",
    "print(f\"\\nIdentifying records with humidity over {humidity_limit}% to remove\")\n",
    "\n",
    "excessive_humidity_df = fetched_results_df.loc[fetched_results_df[humidity] > humidity_limit].reset_index()[[city_id,country,city,humidity]]  \\\n",
    "                                                                                             .astype({city_id: 'int'})                                                                       \n",
    "excessive_humidity_df.head(15)"
   ]
  },
  {
   "cell_type": "code",
   "execution_count": null,
   "metadata": {},
   "outputs": [],
   "source": [
    "#Re-configure City ID type from float to int to match visualization requirement\n",
    "excessive_humidity_df = excessive_humidity_df.astype({city_id: 'int'}) #.set_index(city_id)\n"
   ]
  },
  {
   "cell_type": "code",
   "execution_count": null,
   "metadata": {},
   "outputs": [],
   "source": [
    "# Make a new DataFrame equal to the city data to drop all humidity outliers by index.\n",
    "idxs_to_drop = list((x for x in list(excessive_humidity_df[city_id])))\n",
    "\n",
    "# Passing \"inplace=False\" will make a copy of the city_data DataFrame, which we call \"clean_city_data\".\n",
    "clean_city_data = fetched_results_df.drop(fetched_results_df.index[idxs_to_drop], inplace = False )\n",
    "\n",
    "#Display copy of dataset in a manner consistent other visualizations \n",
    "df = format_dataframe_for_display(clean_city_data,\n",
    "                                  reset_index_flag = True,\n",
    "                                  copy_flag        = False,\n",
    "                                  in_place_flag    = True)\n",
    "\n",
    "df.head(15)"
   ]
  },
  {
   "cell_type": "markdown",
   "metadata": {},
   "source": [
    "## Plotting the Data\n",
    "* Use proper labeling of the plots using plot titles (including date of analysis) and axes labels.\n",
    "* Save the plotted figures as .pngs."
   ]
  },
  {
   "cell_type": "markdown",
   "metadata": {},
   "source": [
    "## Latitude vs. Temperature Plot"
   ]
  },
  {
   "cell_type": "code",
   "execution_count": null,
   "metadata": {
    "scrolled": true
   },
   "outputs": [],
   "source": []
  },
  {
   "cell_type": "markdown",
   "metadata": {},
   "source": [
    "## Latitude vs. Humidity Plot"
   ]
  },
  {
   "cell_type": "code",
   "execution_count": null,
   "metadata": {},
   "outputs": [],
   "source": []
  },
  {
   "cell_type": "markdown",
   "metadata": {},
   "source": [
    "## Latitude vs. Cloudiness Plot"
   ]
  },
  {
   "cell_type": "code",
   "execution_count": null,
   "metadata": {},
   "outputs": [],
   "source": []
  },
  {
   "cell_type": "markdown",
   "metadata": {},
   "source": [
    "## Latitude vs. Wind Speed Plot"
   ]
  },
  {
   "cell_type": "code",
   "execution_count": null,
   "metadata": {},
   "outputs": [],
   "source": []
  },
  {
   "cell_type": "markdown",
   "metadata": {},
   "source": [
    "## Linear Regression"
   ]
  },
  {
   "cell_type": "code",
   "execution_count": null,
   "metadata": {},
   "outputs": [],
   "source": []
  },
  {
   "cell_type": "markdown",
   "metadata": {},
   "source": [
    "####  Northern Hemisphere - Max Temp vs. Latitude Linear Regression"
   ]
  },
  {
   "cell_type": "code",
   "execution_count": null,
   "metadata": {},
   "outputs": [],
   "source": []
  },
  {
   "cell_type": "markdown",
   "metadata": {},
   "source": [
    "####  Southern Hemisphere - Max Temp vs. Latitude Linear Regression"
   ]
  },
  {
   "cell_type": "code",
   "execution_count": null,
   "metadata": {},
   "outputs": [],
   "source": []
  },
  {
   "cell_type": "markdown",
   "metadata": {},
   "source": [
    "####  Northern Hemisphere - Humidity (%) vs. Latitude Linear Regression"
   ]
  },
  {
   "cell_type": "code",
   "execution_count": null,
   "metadata": {},
   "outputs": [],
   "source": []
  },
  {
   "cell_type": "markdown",
   "metadata": {},
   "source": [
    "####  Southern Hemisphere - Humidity (%) vs. Latitude Linear Regression"
   ]
  },
  {
   "cell_type": "code",
   "execution_count": null,
   "metadata": {},
   "outputs": [],
   "source": []
  },
  {
   "cell_type": "markdown",
   "metadata": {},
   "source": [
    "####  Northern Hemisphere - Cloudiness (%) vs. Latitude Linear Regression"
   ]
  },
  {
   "cell_type": "code",
   "execution_count": null,
   "metadata": {},
   "outputs": [],
   "source": []
  },
  {
   "cell_type": "markdown",
   "metadata": {},
   "source": [
    "####  Southern Hemisphere - Cloudiness (%) vs. Latitude Linear Regression"
   ]
  },
  {
   "cell_type": "code",
   "execution_count": null,
   "metadata": {},
   "outputs": [],
   "source": []
  },
  {
   "cell_type": "markdown",
   "metadata": {},
   "source": [
    "####  Northern Hemisphere - Wind Speed (mph) vs. Latitude Linear Regression"
   ]
  },
  {
   "cell_type": "code",
   "execution_count": null,
   "metadata": {},
   "outputs": [],
   "source": []
  },
  {
   "cell_type": "markdown",
   "metadata": {},
   "source": [
    "####  Southern Hemisphere - Wind Speed (mph) vs. Latitude Linear Regression"
   ]
  }
 ],
 "metadata": {
  "anaconda-cloud": {},
  "kernel_info": {
   "name": "python3"
  },
  "kernelspec": {
   "display_name": "Python [conda env:PythonData] *",
   "language": "python",
   "name": "conda-env-PythonData-py"
  },
  "language_info": {
   "codemirror_mode": {
    "name": "ipython",
    "version": 3
   },
   "file_extension": ".py",
   "mimetype": "text/x-python",
   "name": "python",
   "nbconvert_exporter": "python",
   "pygments_lexer": "ipython3",
   "version": "3.8.11"
  },
  "latex_envs": {
   "LaTeX_envs_menu_present": true,
   "autoclose": false,
   "autocomplete": true,
   "bibliofile": "biblio.bib",
   "cite_by": "apalike",
   "current_citInitial": 1,
   "eqLabelWithNumbers": true,
   "eqNumInitial": 1,
   "hotkeys": {
    "equation": "Ctrl-E",
    "itemize": "Ctrl-I"
   },
   "labels_anchors": false,
   "latex_user_defs": false,
   "report_style_numbering": false,
   "user_envs_cfg": false
  },
  "nteract": {
   "version": "0.12.3"
  }
 },
 "nbformat": 4,
 "nbformat_minor": 2
}
